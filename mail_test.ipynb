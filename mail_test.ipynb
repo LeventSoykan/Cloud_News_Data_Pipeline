{
 "cells": [
  {
   "cell_type": "code",
   "execution_count": 27,
   "id": "f0c5e6b0",
   "metadata": {},
   "outputs": [],
   "source": [
    "import os\n",
    "import requests\n",
    "import smtplib, ssl\n",
    "import email.message\n",
    "from datetime import datetime as dt\n",
    "from sqlalchemy import create_engine\n",
    "import pandas as pd"
   ]
  },
  {
   "cell_type": "code",
   "execution_count": 6,
   "id": "f0d50827",
   "metadata": {},
   "outputs": [],
   "source": [
    "conn_url = os.environ.get('POSTGRES_CONNECTION_STRING')\n",
    "engine = create_engine(f'{conn_url}cloudnewsdb')"
   ]
  },
  {
   "cell_type": "code",
   "execution_count": 8,
   "id": "0ecf82fc",
   "metadata": {},
   "outputs": [],
   "source": [
    "df = pd.read_sql('SELECT * FROM articles;',engine)"
   ]
  },
  {
   "cell_type": "code",
   "execution_count": 9,
   "id": "9de224be",
   "metadata": {},
   "outputs": [
    {
     "data": {
      "text/plain": [
       "'<table border=\"1\" class=\"dataframe\">\\n  <thead>\\n    <tr style=\"text-align: right;\">\\n      <th></th>\\n      <th>title</th>\\n      <th>url</th>\\n      <th>source</th>\\n      <th>date</th>\\n      <th>query_date</th>\\n    </tr>\\n  </thead>\\n  <tbody>\\n    <tr>\\n      <th>0</th>\\n      <td>Arista: AI and cloud networking portend bright future</td>\\n      <td>https://www.networkworld.com/article/1267632/arista-ai-and-cloud-networking-portend-bright-future-but-high-level-execution-required.html</td>\\n      <td>Network World</td>\\n      <td>2023-12-19</td>\\n      <td>2024-01-06</td>\\n    </tr>\\n    <tr>\\n      <th>1</th>\\n      <td>Oxide puts the \\'cloud\\' back in on-prem private clouds</td>\\n      <td>https://www.networkworld.com/article/1250120/startup-oxide-computing-seeks-to-put-the-cloud-back-in-on-prem-private-clouds.html</td>\\n      <td>Network World</td>\\n      <td>2023-12-12</td>\\n      <td>2024-01-06</td>\\n    </tr>\\n    <tr>\\n      <th>2</th>\\n      <td>IBM cloud service aims to deliver secure, multicloud connectivity</td>\\n      <td>https://www.networkworld.com/article/1251939/ibm-cloud-service-aims-to-deliver-secure-multicloud-connectivity.html</td>\\n      <td>Network World</td>\\n      <td>2023-12-07</td>\\n      <td>2024-01-06</td>\\n    </tr>\\n    <tr>\\n      <th>3</th>\\n      <td>EU approves $1.3B in aid for cloud, edge computing\\\\n</td>\\n      <td>https://www.networkworld.com/article/1251281/eu-approves-1-3b-in-aid-for-cloud-edge-computing.html</td>\\n      <td>Network World</td>\\n      <td>2023-12-05</td>\\n      <td>2024-01-06</td>\\n    </tr>\\n  </tbody>\\n</table>'"
      ]
     },
     "execution_count": 9,
     "metadata": {},
     "output_type": "execute_result"
    }
   ],
   "source": [
    "df.to_html()"
   ]
  },
  {
   "cell_type": "code",
   "execution_count": 36,
   "id": "70392f1b",
   "metadata": {},
   "outputs": [],
   "source": []
  },
  {
   "cell_type": "code",
   "execution_count": 37,
   "id": "fa0734ec",
   "metadata": {},
   "outputs": [],
   "source": [
    "send_email()"
   ]
  },
  {
   "cell_type": "code",
   "execution_count": 20,
   "id": "0afd11b3",
   "metadata": {},
   "outputs": [
    {
     "data": {
      "text/plain": [
       "'<table border=\"1\" class=\"dataframe\">\\n  <thead>\\n    <tr style=\"text-align: right;\">\\n      <th></th>\\n      <th>title</th>\\n      <th>url</th>\\n      <th>source</th>\\n      <th>date</th>\\n      <th>query_date</th>\\n    </tr>\\n  </thead>\\n  <tbody>\\n    <tr>\\n      <th>0</th>\\n      <td>Arista: AI and cloud networking portend bright future</td>\\n      <td>https://www.networkworld.com/article/1267632/arista-ai-and-cloud-networking-portend-bright-future-but-high-level-execution-required.html</td>\\n      <td>Network World</td>\\n      <td>2023-12-19</td>\\n      <td>2024-01-06</td>\\n    </tr>\\n    <tr>\\n      <th>1</th>\\n      <td>Oxide puts the \\'cloud\\' back in on-prem private clouds</td>\\n      <td>https://www.networkworld.com/article/1250120/startup-oxide-computing-seeks-to-put-the-cloud-back-in-on-prem-private-clouds.html</td>\\n      <td>Network World</td>\\n      <td>2023-12-12</td>\\n      <td>2024-01-06</td>\\n    </tr>\\n    <tr>\\n      <th>2</th>\\n      <td>IBM cloud service aims to deliver secure, multicloud connectivity</td>\\n      <td>https://www.networkworld.com/article/1251939/ibm-cloud-service-aims-to-deliver-secure-multicloud-connectivity.html</td>\\n      <td>Network World</td>\\n      <td>2023-12-07</td>\\n      <td>2024-01-06</td>\\n    </tr>\\n    <tr>\\n      <th>3</th>\\n      <td>EU approves $1.3B in aid for cloud, edge computing\\\\n</td>\\n      <td>https://www.networkworld.com/article/1251281/eu-approves-1-3b-in-aid-for-cloud-edge-computing.html</td>\\n      <td>Network World</td>\\n      <td>2023-12-05</td>\\n      <td>2024-01-06</td>\\n    </tr>\\n  </tbody>\\n</table>'"
      ]
     },
     "execution_count": 20,
     "metadata": {},
     "output_type": "execute_result"
    }
   ],
   "source": [
    "df.to_html()"
   ]
  },
  {
   "cell_type": "code",
   "execution_count": 32,
   "id": "63a05350",
   "metadata": {},
   "outputs": [
    {
     "data": {
      "text/plain": [
       "'2024-01-09'"
      ]
     },
     "execution_count": 32,
     "metadata": {},
     "output_type": "execute_result"
    }
   ],
   "source": []
  },
  {
   "cell_type": "code",
   "execution_count": null,
   "id": "23d62fe6",
   "metadata": {},
   "outputs": [],
   "source": [
    "datetime.datetime.strftime"
   ]
  }
 ],
 "metadata": {
  "kernelspec": {
   "display_name": "Python 3 (ipykernel)",
   "language": "python",
   "name": "python3"
  },
  "language_info": {
   "codemirror_mode": {
    "name": "ipython",
    "version": 3
   },
   "file_extension": ".py",
   "mimetype": "text/x-python",
   "name": "python",
   "nbconvert_exporter": "python",
   "pygments_lexer": "ipython3",
   "version": "3.11.1"
  }
 },
 "nbformat": 4,
 "nbformat_minor": 5
}
