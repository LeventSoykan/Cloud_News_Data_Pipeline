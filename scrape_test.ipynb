{
 "cells": [
  {
   "cell_type": "code",
   "execution_count": 3,
   "id": "d44e714d-63fe-4a81-92ae-aa63aad7edf6",
   "metadata": {},
   "outputs": [],
   "source": [
    "import scrapy\n",
    "import requests\n",
    "from scrapy.http import HtmlResponse"
   ]
  },
  {
   "cell_type": "code",
   "execution_count": 4,
   "id": "33f0401c-58b2-4389-8326-2778bf5fcfd6",
   "metadata": {},
   "outputs": [],
   "source": [
    "URL = 'https://www.networkworld.com/cloud-computing/'\n",
    "#response = HtmlResponse(url=URL)\n",
    "html = requests.get( URL ).content\n",
    "sel = scrapy.Selector( text = html )"
   ]
  },
  {
   "cell_type": "code",
   "execution_count": 5,
   "id": "5e1baab9-9017-4118-bb1a-866435ca6ace",
   "metadata": {},
   "outputs": [
    {
     "data": {
      "text/plain": [
       "['https://www.networkworld.com/article/1250120/startup-oxide-computing-seeks-to-put-the-cloud-back-in-on-prem-private-clouds.html',\n",
       " 'https://www.networkworld.com/article/1251939/ibm-cloud-service-aims-to-deliver-secure-multicloud-connectivity.html',\n",
       " 'https://www.networkworld.com/article/1251281/eu-approves-1-3b-in-aid-for-cloud-edge-computing.html',\n",
       " 'https://www.networkworld.com/article/1250044/mainframe-modernization-gets-a-boost-from-kyndryl-aws-collaboration.html',\n",
       " 'https://www.networkworld.com/article/1249451/cisco-aws-further-integrate-cloud-management-capabilities.html',\n",
       " 'https://www.networkworld.com/article/1247908/alibaba-scraps-plans-to-hive-off-cloud-business-amid-growing-chip-uncertainties.html',\n",
       " 'https://www.networkworld.com/article/1247268/microsofts-maia-ai-azure-cobalt-chips-to-rev-up-efficiency-performance.html',\n",
       " 'https://www.networkworld.com/article/1247134/cloud-management-skills-gap-drives-hybrid-cloud-adoption.html',\n",
       " 'https://www.networkworld.com/article/957430/infrastructure-teams-need-multi-cloud-networking-and-security-guardrails.html',\n",
       " 'https://us.resources.networkworld.com/resources/the-state-of-healthcare-call-centers-industry-report-3?utm_source=rss-feed&utm_medium=rss&utm_campaign=feed',\n",
       " 'https://us.resources.networkworld.com/resources/from-cost-center-to-value-generator-transforming-healthcare-contact-centers-with-salesforce-conversational-ai-2?utm_source=rss-feed&utm_medium=rss&utm_campaign=feed',\n",
       " 'https://us.resources.networkworld.com/resources/accelerating-transformation-how-state-and-local-governments-can-enhance-their-it-infrastructure-3?utm_source=rss-feed&utm_medium=rss&utm_campaign=feed',\n",
       " 'https://www.networkworld.com/video/663125/vmware-s-new-ceo-we-re-doubling-down-on-multicloud.html',\n",
       " 'https://www.networkworld.com/video/663157/idgs-think-tank-on-multicloud-key-findings-from-top-cios.html',\n",
       " 'https://www.networkworld.com/video/663158/orchestrating-a-global-multicloud-strategy-at-general-dynamics-it.html',\n",
       " 'https://www.networkworld.com/video/663186/what-is-edge-computing.html']"
      ]
     },
     "execution_count": 5,
     "metadata": {},
     "output_type": "execute_result"
    }
   ],
   "source": [
    "sel.xpath('//a[contains(@class, \"card\")]/@href').extract()"
   ]
  },
  {
   "cell_type": "code",
   "execution_count": 58,
   "id": "5fa6e335-d4e6-487f-9689-c4dc0e177199",
   "metadata": {},
   "outputs": [
    {
     "data": {
      "text/plain": [
       "{\"Oxide puts the 'cloud' back in on-prem private clouds\": ['https://www.networkworld.com/article/1250120/startup-oxide-computing-seeks-to-put-the-cloud-back-in-on-prem-private-clouds.html',\n",
       "  'Dec 12, 2023'],\n",
       " 'IBM cloud service aims to deliver secure, multicloud connectivity': ['https://www.networkworld.com/article/1251939/ibm-cloud-service-aims-to-deliver-secure-multicloud-connectivity.html',\n",
       "  'Dec 07, 2023'],\n",
       " 'EU approves $1.3B in aid for cloud, edge computing\\n': ['https://www.networkworld.com/article/1251281/eu-approves-1-3b-in-aid-for-cloud-edge-computing.html',\n",
       "  'Dec 05, 2023'],\n",
       " 'The State of Healthcare Call Centers - Industry Report': ['https://us.resources.networkworld.com/resources/the-state-of-healthcare-call-centers-industry-report-3?utm_source=rss-feed&utm_medium=rss&utm_campaign=feed',\n",
       "  '15 Dec 2023'],\n",
       " 'From Cost Center to Value Generator: Transforming Healthcare Contact Centers with Salesforce & Conversational AI': ['https://us.resources.networkworld.com/resources/from-cost-center-to-value-generator-transforming-healthcare-contact-centers-with-salesforce-conversational-ai-2?utm_source=rss-feed&utm_medium=rss&utm_campaign=feed',\n",
       "  '15 Dec 2023'],\n",
       " 'Accelerating Transformation: How state and local governments can enhance their IT infrastructure': ['https://us.resources.networkworld.com/resources/accelerating-transformation-how-state-and-local-governments-can-enhance-their-it-infrastructure-3?utm_source=rss-feed&utm_medium=rss&utm_campaign=feed',\n",
       "  '15 Dec 2023']}"
      ]
     },
     "execution_count": 58,
     "metadata": {},
     "output_type": "execute_result"
    }
   ],
   "source": [
    "data = {}\n",
    "for a in sel.xpath(\"//a[@class and contains(concat(' ', normalize-space(@class), ' '), ' card ')]\"):  \n",
    "    date = a.xpath('div[contains (@class, \"card__info--light\")]/span[1]/text()').extract()[0]\n",
    "    if 'dec' in date.lower():\n",
    "        data[a.xpath('h4/text()').extract()[0]] = [a.xpath('@href').extract()[0], date]\n",
    "data"
   ]
  },
  {
   "cell_type": "code",
   "execution_count": null,
   "id": "ca00968b",
   "metadata": {},
   "outputs": [],
   "source": []
  }
 ],
 "metadata": {
  "kernelspec": {
   "display_name": "Python 3 (ipykernel)",
   "language": "python",
   "name": "python3"
  },
  "language_info": {
   "codemirror_mode": {
    "name": "ipython",
    "version": 3
   },
   "file_extension": ".py",
   "mimetype": "text/x-python",
   "name": "python",
   "nbconvert_exporter": "python",
   "pygments_lexer": "ipython3",
   "version": "3.11.1"
  }
 },
 "nbformat": 4,
 "nbformat_minor": 5
}
