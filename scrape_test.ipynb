{
 "cells": [
  {
   "cell_type": "code",
   "execution_count": 1,
   "id": "d44e714d-63fe-4a81-92ae-aa63aad7edf6",
   "metadata": {},
   "outputs": [],
   "source": [
    "import scrapy\n",
    "import requests\n",
    "import pandas as pd\n",
    "from sqlalchemy import create_engine\n",
    "from scrapy.http import HtmlResponse\n",
    "from scrapy.crawler import CrawlerProcess\n",
    "from scrapy.utils.project import get_project_settings\n",
    "import os"
   ]
  },
  {
   "cell_type": "code",
   "execution_count": 2,
   "id": "ca00968b",
   "metadata": {},
   "outputs": [],
   "source": [
    "class NWSpider(scrapy.Spider):\n",
    "    name = 'network_world_spider'\n",
    "    def __init__(self):\n",
    "        super().__init__()\n",
    "        conn_url = os.environ.get('POSTGRES_CONNECTION_STRING')\n",
    "        self.engine = create_engine(f'{conn_url}cloudnewsdb')\n",
    "        self.data = []\n",
    "\n",
    "    def start_requests(self):\n",
    "        urls = ['https://www.networkworld.com/cloud-computing/']\n",
    "        for url in urls:\n",
    "            yield scrapy.Request(url = url, callback = self.parse)\n",
    "\n",
    "    def parse(self, response):\n",
    "        for a in response.xpath(\"//a[@class and contains(concat(' ', normalize-space(@class), ' '), ' card ')]\"):  \n",
    "            date = a.xpath('div[contains (@class, \"card__info--light\")]/span[1]/text()').extract()[0]\n",
    "            if 'dec' in date.lower():\n",
    "                self.data.append({\n",
    "                    'name': a.xpath('h4/text()').extract()[0],\n",
    "                    'link':a.xpath('@href').extract()[0],\n",
    "                    'date':date,\n",
    "                    'source': 'Network World'\n",
    "                })\n",
    "        df = pd.DataFrame(self.data)\n",
    "        df.to_sql('raw', self.engine, if_exists='replace')"
   ]
  },
  {
   "cell_type": "code",
   "execution_count": 3,
   "id": "33d04656-d739-41d5-a2bf-8bfe6182e885",
   "metadata": {
    "scrolled": true
   },
   "outputs": [
    {
     "name": "stderr",
     "output_type": "stream",
     "text": [
      "2024-01-01 14:18:19 [scrapy.utils.log] INFO: Scrapy 2.11.0 started (bot: scrapybot)\n",
      "2024-01-01 14:18:19 [scrapy.utils.log] INFO: Versions: lxml 4.9.2.0, libxml2 2.9.12, cssselect 1.2.0, parsel 1.8.1, w3lib 2.1.2, Twisted 22.10.0, Python 3.11.1 (tags/v3.11.1:a7a450f, Dec  6 2022, 19:58:39) [MSC v.1934 64 bit (AMD64)], pyOpenSSL 23.3.0 (OpenSSL 3.1.4 24 Oct 2023), cryptography 41.0.7, Platform Windows-10-10.0.19045-SP0\n",
      "2024-01-01 14:18:19 [scrapy.addons] INFO: Enabled addons:\n",
      "[]\n",
      "2024-01-01 14:18:19 [py.warnings] WARNING: C:\\Users\\dell\\AppData\\Local\\Programs\\Python\\Python311\\Lib\\site-packages\\scrapy\\utils\\request.py:254: ScrapyDeprecationWarning: '2.6' is a deprecated value for the 'REQUEST_FINGERPRINTER_IMPLEMENTATION' setting.\n",
      "\n",
      "It is also the default value. In other words, it is normal to get this warning if you have not defined a value for the 'REQUEST_FINGERPRINTER_IMPLEMENTATION' setting. This is so for backward compatibility reasons, but it will change in a future version of Scrapy.\n",
      "\n",
      "See the documentation of the 'REQUEST_FINGERPRINTER_IMPLEMENTATION' setting for information on how to handle this deprecation.\n",
      "  return cls(crawler)\n",
      "\n",
      "2024-01-01 14:18:19 [scrapy.utils.log] DEBUG: Using reactor: twisted.internet.selectreactor.SelectReactor\n",
      "2024-01-01 14:18:19 [scrapy.extensions.telnet] INFO: Telnet Password: aac3e0567fb8e333\n",
      "2024-01-01 14:18:19 [scrapy.middleware] INFO: Enabled extensions:\n",
      "['scrapy.extensions.corestats.CoreStats',\n",
      " 'scrapy.extensions.telnet.TelnetConsole',\n",
      " 'scrapy.extensions.logstats.LogStats']\n",
      "2024-01-01 14:18:19 [scrapy.crawler] INFO: Overridden settings:\n",
      "{}\n",
      "2024-01-01 14:18:19 [scrapy.middleware] INFO: Enabled downloader middlewares:\n",
      "['scrapy.downloadermiddlewares.httpauth.HttpAuthMiddleware',\n",
      " 'scrapy.downloadermiddlewares.downloadtimeout.DownloadTimeoutMiddleware',\n",
      " 'scrapy.downloadermiddlewares.defaultheaders.DefaultHeadersMiddleware',\n",
      " 'scrapy.downloadermiddlewares.useragent.UserAgentMiddleware',\n",
      " 'scrapy.downloadermiddlewares.retry.RetryMiddleware',\n",
      " 'scrapy.downloadermiddlewares.redirect.MetaRefreshMiddleware',\n",
      " 'scrapy.downloadermiddlewares.httpcompression.HttpCompressionMiddleware',\n",
      " 'scrapy.downloadermiddlewares.redirect.RedirectMiddleware',\n",
      " 'scrapy.downloadermiddlewares.cookies.CookiesMiddleware',\n",
      " 'scrapy.downloadermiddlewares.httpproxy.HttpProxyMiddleware',\n",
      " 'scrapy.downloadermiddlewares.stats.DownloaderStats']\n",
      "2024-01-01 14:18:19 [scrapy.middleware] INFO: Enabled spider middlewares:\n",
      "['scrapy.spidermiddlewares.httperror.HttpErrorMiddleware',\n",
      " 'scrapy.spidermiddlewares.offsite.OffsiteMiddleware',\n",
      " 'scrapy.spidermiddlewares.referer.RefererMiddleware',\n",
      " 'scrapy.spidermiddlewares.urllength.UrlLengthMiddleware',\n",
      " 'scrapy.spidermiddlewares.depth.DepthMiddleware']\n",
      "2024-01-01 14:18:19 [scrapy.middleware] INFO: Enabled item pipelines:\n",
      "[]\n",
      "2024-01-01 14:18:19 [scrapy.core.engine] INFO: Spider opened\n",
      "2024-01-01 14:18:19 [scrapy.extensions.logstats] INFO: Crawled 0 pages (at 0 pages/min), scraped 0 items (at 0 items/min)\n",
      "2024-01-01 14:18:19 [scrapy.extensions.telnet] INFO: Telnet console listening on 127.0.0.1:6023\n",
      "2024-01-01 14:18:20 [scrapy.core.engine] DEBUG: Crawled (200) <GET https://www.networkworld.com/cloud-computing/> (referer: None)\n",
      "2024-01-01 14:18:20 [scrapy.core.scraper] ERROR: Spider error processing <GET https://www.networkworld.com/cloud-computing/> (referer: None)\n",
      "Traceback (most recent call last):\n",
      "  File \"C:\\Users\\dell\\AppData\\Local\\Programs\\Python\\Python311\\Lib\\site-packages\\twisted\\internet\\defer.py\", line 892, in _runCallbacks\n",
      "    current.result = callback(  # type: ignore[misc]\n",
      "                     ^^^^^^^^^^^^^^^^^^^^^^^^^^^^^^^\n",
      "  File \"C:\\Users\\dell\\AppData\\Local\\Temp\\ipykernel_1100\\4088672205.py\", line 25, in parse\n",
      "    df.to_sql('raw', engine, if_exists='replace')\n",
      "                     ^^^^^^\n",
      "NameError: name 'engine' is not defined\n",
      "2024-01-01 14:18:20 [scrapy.core.engine] INFO: Closing spider (finished)\n",
      "2024-01-01 14:18:20 [scrapy.statscollectors] INFO: Dumping Scrapy stats:\n",
      "{'downloader/request_bytes': 243,\n",
      " 'downloader/request_count': 1,\n",
      " 'downloader/request_method_count/GET': 1,\n",
      " 'downloader/response_bytes': 37779,\n",
      " 'downloader/response_count': 1,\n",
      " 'downloader/response_status_count/200': 1,\n",
      " 'elapsed_time_seconds': 0.808524,\n",
      " 'finish_reason': 'finished',\n",
      " 'finish_time': datetime.datetime(2024, 1, 1, 11, 18, 20, 745127, tzinfo=datetime.timezone.utc),\n",
      " 'httpcompression/response_bytes': 192323,\n",
      " 'httpcompression/response_count': 1,\n",
      " 'log_count/DEBUG': 2,\n",
      " 'log_count/ERROR': 1,\n",
      " 'log_count/INFO': 10,\n",
      " 'log_count/WARNING': 1,\n",
      " 'response_received_count': 1,\n",
      " 'scheduler/dequeued': 1,\n",
      " 'scheduler/dequeued/memory': 1,\n",
      " 'scheduler/enqueued': 1,\n",
      " 'scheduler/enqueued/memory': 1,\n",
      " 'spider_exceptions/NameError': 1,\n",
      " 'start_time': datetime.datetime(2024, 1, 1, 11, 18, 19, 936603, tzinfo=datetime.timezone.utc)}\n",
      "2024-01-01 14:18:20 [scrapy.core.engine] INFO: Spider closed (finished)\n"
     ]
    }
   ],
   "source": [
    "process = CrawlerProcess()\n",
    "process.crawl(NWSpider)\n",
    "process.start()"
   ]
  },
  {
   "cell_type": "code",
   "execution_count": null,
   "id": "8b29e9a8-b8e2-4b4f-89a9-a631ff444d2d",
   "metadata": {},
   "outputs": [],
   "source": []
  },
  {
   "cell_type": "code",
   "execution_count": null,
   "id": "9025f79d-0d65-41c5-83a4-f28fb55f4735",
   "metadata": {},
   "outputs": [],
   "source": []
  },
  {
   "cell_type": "code",
   "execution_count": 2,
   "id": "33f0401c-58b2-4389-8326-2778bf5fcfd6",
   "metadata": {},
   "outputs": [],
   "source": [
    "URL = 'https://www.networkworld.com/cloud-computing/'\n",
    "#response = HtmlResponse(url=URL)\n",
    "html = requests.get( URL ).content\n",
    "sel = scrapy.Selector( text = html )"
   ]
  },
  {
   "cell_type": "code",
   "execution_count": 6,
   "id": "5e1baab9-9017-4118-bb1a-866435ca6ace",
   "metadata": {},
   "outputs": [
    {
     "data": {
      "text/plain": [
       "['https://www.networkworld.com/article/1250120/startup-oxide-computing-seeks-to-put-the-cloud-back-in-on-prem-private-clouds.html',\n",
       " 'https://www.networkworld.com/article/1251939/ibm-cloud-service-aims-to-deliver-secure-multicloud-connectivity.html',\n",
       " 'https://www.networkworld.com/article/1251281/eu-approves-1-3b-in-aid-for-cloud-edge-computing.html',\n",
       " 'https://www.networkworld.com/article/1250044/mainframe-modernization-gets-a-boost-from-kyndryl-aws-collaboration.html',\n",
       " 'https://www.networkworld.com/article/1249451/cisco-aws-further-integrate-cloud-management-capabilities.html',\n",
       " 'https://www.networkworld.com/article/1247908/alibaba-scraps-plans-to-hive-off-cloud-business-amid-growing-chip-uncertainties.html',\n",
       " 'https://www.networkworld.com/article/1247268/microsofts-maia-ai-azure-cobalt-chips-to-rev-up-efficiency-performance.html',\n",
       " 'https://www.networkworld.com/article/1247134/cloud-management-skills-gap-drives-hybrid-cloud-adoption.html',\n",
       " 'https://www.networkworld.com/article/957430/infrastructure-teams-need-multi-cloud-networking-and-security-guardrails.html',\n",
       " 'https://us.resources.networkworld.com/resources/beyond-the-wall-the-story-of-six-vfx-studios-behind-the-epic-game-of-thrones-3?utm_source=rss-feed&utm_medium=rss&utm_campaign=feed',\n",
       " 'https://us.resources.networkworld.com/resources/6-secrets-to-successful-cloud-based-workflows-4?utm_source=rss-feed&utm_medium=rss&utm_campaign=feed',\n",
       " 'https://us.resources.networkworld.com/resources/why-observability-with-business-insights-is-critical-to-hybrid-apps-on-aws-5?utm_source=rss-feed&utm_medium=rss&utm_campaign=feed',\n",
       " 'https://www.networkworld.com/video/663125/vmware-s-new-ceo-we-re-doubling-down-on-multicloud.html',\n",
       " 'https://www.networkworld.com/video/663157/idgs-think-tank-on-multicloud-key-findings-from-top-cios.html',\n",
       " 'https://www.networkworld.com/video/663158/orchestrating-a-global-multicloud-strategy-at-general-dynamics-it.html',\n",
       " 'https://www.networkworld.com/video/663186/what-is-edge-computing.html']"
      ]
     },
     "execution_count": 6,
     "metadata": {},
     "output_type": "execute_result"
    }
   ],
   "source": [
    "sel.xpath('//a[contains(@class, \"card\")]/@href').extract()"
   ]
  },
  {
   "cell_type": "code",
   "execution_count": 7,
   "id": "5fa6e335-d4e6-487f-9689-c4dc0e177199",
   "metadata": {},
   "outputs": [
    {
     "data": {
      "text/plain": [
       "[{'name': \"Oxide puts the 'cloud' back in on-prem private clouds\",\n",
       "  'link': 'https://www.networkworld.com/article/1250120/startup-oxide-computing-seeks-to-put-the-cloud-back-in-on-prem-private-clouds.html',\n",
       "  'date': 'Dec 12, 2023'},\n",
       " {'name': 'IBM cloud service aims to deliver secure, multicloud connectivity',\n",
       "  'link': 'https://www.networkworld.com/article/1251939/ibm-cloud-service-aims-to-deliver-secure-multicloud-connectivity.html',\n",
       "  'date': 'Dec 07, 2023'},\n",
       " {'name': 'EU approves $1.3B in aid for cloud, edge computing\\n',\n",
       "  'link': 'https://www.networkworld.com/article/1251281/eu-approves-1-3b-in-aid-for-cloud-edge-computing.html',\n",
       "  'date': 'Dec 05, 2023'},\n",
       " {'name': 'BEYOND THE WALL The story of six VFX studios behind the epic Game of Thrones',\n",
       "  'link': 'https://us.resources.networkworld.com/resources/beyond-the-wall-the-story-of-six-vfx-studios-behind-the-epic-game-of-thrones-3?utm_source=rss-feed&utm_medium=rss&utm_campaign=feed',\n",
       "  'date': '15 Dec 2023'},\n",
       " {'name': '6 Secrets to Successful Cloud-Based Workflows',\n",
       "  'link': 'https://us.resources.networkworld.com/resources/6-secrets-to-successful-cloud-based-workflows-4?utm_source=rss-feed&utm_medium=rss&utm_campaign=feed',\n",
       "  'date': '15 Dec 2023'},\n",
       " {'name': 'Why observability with business insights is critical to hybrid apps on AWS',\n",
       "  'link': 'https://us.resources.networkworld.com/resources/why-observability-with-business-insights-is-critical-to-hybrid-apps-on-aws-5?utm_source=rss-feed&utm_medium=rss&utm_campaign=feed',\n",
       "  'date': '15 Dec 2023'}]"
      ]
     },
     "execution_count": 7,
     "metadata": {},
     "output_type": "execute_result"
    }
   ],
   "source": [
    "data = []\n",
    "for a in sel.xpath(\"//a[@class and contains(concat(' ', normalize-space(@class), ' '), ' card ')]\"):  \n",
    "    date = a.xpath('div[contains (@class, \"card__info--light\")]/span[1]/text()').extract()[0]\n",
    "    if 'dec' in date.lower():\n",
    "        data.append({\n",
    "                    'name': a.xpath('h4/text()').extract()[0],\n",
    "                    'link':a.xpath('@href').extract()[0],\n",
    "                    'date':date\n",
    "                })\n",
    "data"
   ]
  },
  {
   "cell_type": "code",
   "execution_count": 9,
   "id": "688d24c5-b603-4cd5-9fd0-8331ad080ffe",
   "metadata": {},
   "outputs": [
    {
     "data": {
      "text/html": [
       "<div>\n",
       "<style scoped>\n",
       "    .dataframe tbody tr th:only-of-type {\n",
       "        vertical-align: middle;\n",
       "    }\n",
       "\n",
       "    .dataframe tbody tr th {\n",
       "        vertical-align: top;\n",
       "    }\n",
       "\n",
       "    .dataframe thead th {\n",
       "        text-align: right;\n",
       "    }\n",
       "</style>\n",
       "<table border=\"1\" class=\"dataframe\">\n",
       "  <thead>\n",
       "    <tr style=\"text-align: right;\">\n",
       "      <th></th>\n",
       "      <th>name</th>\n",
       "      <th>link</th>\n",
       "      <th>date</th>\n",
       "    </tr>\n",
       "  </thead>\n",
       "  <tbody>\n",
       "    <tr>\n",
       "      <th>0</th>\n",
       "      <td>Oxide puts the 'cloud' back in on-prem private...</td>\n",
       "      <td>https://www.networkworld.com/article/1250120/s...</td>\n",
       "      <td>Dec 12, 2023</td>\n",
       "    </tr>\n",
       "    <tr>\n",
       "      <th>1</th>\n",
       "      <td>IBM cloud service aims to deliver secure, mult...</td>\n",
       "      <td>https://www.networkworld.com/article/1251939/i...</td>\n",
       "      <td>Dec 07, 2023</td>\n",
       "    </tr>\n",
       "    <tr>\n",
       "      <th>2</th>\n",
       "      <td>EU approves $1.3B in aid for cloud, edge compu...</td>\n",
       "      <td>https://www.networkworld.com/article/1251281/e...</td>\n",
       "      <td>Dec 05, 2023</td>\n",
       "    </tr>\n",
       "    <tr>\n",
       "      <th>3</th>\n",
       "      <td>BEYOND THE WALL The story of six VFX studios b...</td>\n",
       "      <td>https://us.resources.networkworld.com/resource...</td>\n",
       "      <td>15 Dec 2023</td>\n",
       "    </tr>\n",
       "    <tr>\n",
       "      <th>4</th>\n",
       "      <td>6 Secrets to Successful Cloud-Based Workflows</td>\n",
       "      <td>https://us.resources.networkworld.com/resource...</td>\n",
       "      <td>15 Dec 2023</td>\n",
       "    </tr>\n",
       "    <tr>\n",
       "      <th>5</th>\n",
       "      <td>Why observability with business insights is cr...</td>\n",
       "      <td>https://us.resources.networkworld.com/resource...</td>\n",
       "      <td>15 Dec 2023</td>\n",
       "    </tr>\n",
       "  </tbody>\n",
       "</table>\n",
       "</div>"
      ],
      "text/plain": [
       "                                                name  \\\n",
       "0  Oxide puts the 'cloud' back in on-prem private...   \n",
       "1  IBM cloud service aims to deliver secure, mult...   \n",
       "2  EU approves $1.3B in aid for cloud, edge compu...   \n",
       "3  BEYOND THE WALL The story of six VFX studios b...   \n",
       "4      6 Secrets to Successful Cloud-Based Workflows   \n",
       "5  Why observability with business insights is cr...   \n",
       "\n",
       "                                                link          date  \n",
       "0  https://www.networkworld.com/article/1250120/s...  Dec 12, 2023  \n",
       "1  https://www.networkworld.com/article/1251939/i...  Dec 07, 2023  \n",
       "2  https://www.networkworld.com/article/1251281/e...  Dec 05, 2023  \n",
       "3  https://us.resources.networkworld.com/resource...   15 Dec 2023  \n",
       "4  https://us.resources.networkworld.com/resource...   15 Dec 2023  \n",
       "5  https://us.resources.networkworld.com/resource...   15 Dec 2023  "
      ]
     },
     "execution_count": 9,
     "metadata": {},
     "output_type": "execute_result"
    }
   ],
   "source": [
    "pd.DataFrame(data)"
   ]
  }
 ],
 "metadata": {
  "kernelspec": {
   "display_name": "Python 3 (ipykernel)",
   "language": "python",
   "name": "python3"
  },
  "language_info": {
   "codemirror_mode": {
    "name": "ipython",
    "version": 3
   },
   "file_extension": ".py",
   "mimetype": "text/x-python",
   "name": "python",
   "nbconvert_exporter": "python",
   "pygments_lexer": "ipython3",
   "version": "3.11.1"
  }
 },
 "nbformat": 4,
 "nbformat_minor": 5
}
