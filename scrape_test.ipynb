{
 "cells": [
  {
   "cell_type": "code",
   "execution_count": 2,
   "id": "d44e714d-63fe-4a81-92ae-aa63aad7edf6",
   "metadata": {},
   "outputs": [],
   "source": [
    "import scrapy\n",
    "import requests\n",
    "from scrapy.http import HtmlResponse"
   ]
  },
  {
   "cell_type": "code",
   "execution_count": 4,
   "id": "33f0401c-58b2-4389-8326-2778bf5fcfd6",
   "metadata": {},
   "outputs": [],
   "source": [
    "URL = 'https://www.networkworld.com/cloud-computing/'\n",
    "#response = HtmlResponse(url=URL)\n",
    "html = requests.get( URL ).content\n",
    "sel = scrapy.Selector( text = html )"
   ]
  },
  {
   "cell_type": "code",
   "execution_count": 16,
   "id": "5e1baab9-9017-4118-bb1a-866435ca6ace",
   "metadata": {},
   "outputs": [
    {
     "data": {
      "text/plain": [
       "['https://www.networkworld.com/article/1250120/startup-oxide-computing-seeks-to-put-the-cloud-back-in-on-prem-private-clouds.html',\n",
       " 'https://www.networkworld.com/article/1251939/ibm-cloud-service-aims-to-deliver-secure-multicloud-connectivity.html',\n",
       " 'https://www.networkworld.com/article/1251281/eu-approves-1-3b-in-aid-for-cloud-edge-computing.html',\n",
       " 'https://www.networkworld.com/article/1250044/mainframe-modernization-gets-a-boost-from-kyndryl-aws-collaboration.html',\n",
       " 'https://www.networkworld.com/article/1249451/cisco-aws-further-integrate-cloud-management-capabilities.html',\n",
       " 'https://www.networkworld.com/article/1247908/alibaba-scraps-plans-to-hive-off-cloud-business-amid-growing-chip-uncertainties.html',\n",
       " 'https://www.networkworld.com/article/1247268/microsofts-maia-ai-azure-cobalt-chips-to-rev-up-efficiency-performance.html',\n",
       " 'https://www.networkworld.com/article/1247134/cloud-management-skills-gap-drives-hybrid-cloud-adoption.html',\n",
       " 'https://www.networkworld.com/article/957430/infrastructure-teams-need-multi-cloud-networking-and-security-guardrails.html',\n",
       " 'https://us.resources.networkworld.com/resources/the-state-of-healthcare-call-centers-industry-report-3?utm_source=rss-feed&utm_medium=rss&utm_campaign=feed',\n",
       " 'https://us.resources.networkworld.com/resources/from-cost-center-to-value-generator-transforming-healthcare-contact-centers-with-salesforce-conversational-ai-2?utm_source=rss-feed&utm_medium=rss&utm_campaign=feed',\n",
       " 'https://us.resources.networkworld.com/resources/accelerating-transformation-how-state-and-local-governments-can-enhance-their-it-infrastructure-3?utm_source=rss-feed&utm_medium=rss&utm_campaign=feed',\n",
       " 'https://www.networkworld.com/video/663125/vmware-s-new-ceo-we-re-doubling-down-on-multicloud.html',\n",
       " 'https://www.networkworld.com/video/663157/idgs-think-tank-on-multicloud-key-findings-from-top-cios.html',\n",
       " 'https://www.networkworld.com/video/663158/orchestrating-a-global-multicloud-strategy-at-general-dynamics-it.html',\n",
       " 'https://www.networkworld.com/video/663186/what-is-edge-computing.html']"
      ]
     },
     "execution_count": 16,
     "metadata": {},
     "output_type": "execute_result"
    }
   ],
   "source": [
    "sel.xpath('//a[contains(@class, \"card\")]/@href').extract()"
   ]
  },
  {
   "cell_type": "code",
   "execution_count": 20,
   "id": "5fa6e335-d4e6-487f-9689-c4dc0e177199",
   "metadata": {},
   "outputs": [
    {
     "name": "stdout",
     "output_type": "stream",
     "text": [
      "['Dec 12, 2023', '8 mins', 'Dec 07, 2023', '3 mins', 'Dec 05, 2023', '3 mins', 'Nov 30, 2023', '4 mins', 'Nov 28, 2023', '4 mins', 'Nov 17, 2023', '4 mins', 'Nov 15, 2023', '7 mins', 'Nov 14, 2023', '3 mins', 'Oct 25, 2023', '5 mins', 'Aug 22, 2023 ', '4 mins', 'Aug 22, 2023 ', '4 mins', 'Aug 09, 2023 ', '2 mins', 'Aug 01, 2023 ', '6 mins', 'Jul 27, 2023 ', '3 mins', 'Jul 18, 2023 ', '4 mins', 'Jul 14, 2023 ', '3 mins', 'Jun 21, 2023 ', '4 mins', 'Jun 15, 2023 ', '5 mins', 'Jun 14, 2023 ', '2 mins', 'Jun 08, 2023 ', '4 mins', 'Jun 06, 2023 ', '7 mins', 'Feb 15, 2024', '18:30-21:30 GMT', 'The Greenhouses, London', 'Mar 21, 2024', '9:30 am – 18:30', 'London, United Kingdom', 'May 16, 2024', '9:30 am – 18:30', 'London, United Kingdom', '15 Dec 2023', '15 Dec 2023', '15 Dec 2023', 'Oct 05, 2021 ', '25 mins', 'Jan 22, 2021 ', '34 mins', 'Jan 15, 2021 ', '26 mins', 'May 01, 2020 ', '3 mins', 'Dec 15, 2023', '4 mins', 'Dec 15, 2023', '6 mins', 'Dec 14, 2023', '7 mins', 'Sep 24, 2021', '20 mins', 'Sep 23, 2021', '17 mins', 'Sep 22, 2021', '14 mins', 'Nov 02, 2023', '2 mins', 'Oct 31, 2023', '2 mins', 'Oct 26, 2023', '2 mins']\n",
      "['Dec 12, 2023', '8 mins', 'Dec 07, 2023', '3 mins', 'Dec 05, 2023', '3 mins', 'Nov 30, 2023', '4 mins', 'Nov 28, 2023', '4 mins', 'Nov 17, 2023', '4 mins', 'Nov 15, 2023', '7 mins', 'Nov 14, 2023', '3 mins', 'Oct 25, 2023', '5 mins', 'Aug 22, 2023 ', '4 mins', 'Aug 22, 2023 ', '4 mins', 'Aug 09, 2023 ', '2 mins', 'Aug 01, 2023 ', '6 mins', 'Jul 27, 2023 ', '3 mins', 'Jul 18, 2023 ', '4 mins', 'Jul 14, 2023 ', '3 mins', 'Jun 21, 2023 ', '4 mins', 'Jun 15, 2023 ', '5 mins', 'Jun 14, 2023 ', '2 mins', 'Jun 08, 2023 ', '4 mins', 'Jun 06, 2023 ', '7 mins', 'Feb 15, 2024', '18:30-21:30 GMT', 'The Greenhouses, London', 'Mar 21, 2024', '9:30 am – 18:30', 'London, United Kingdom', 'May 16, 2024', '9:30 am – 18:30', 'London, United Kingdom', '15 Dec 2023', '15 Dec 2023', '15 Dec 2023', 'Oct 05, 2021 ', '25 mins', 'Jan 22, 2021 ', '34 mins', 'Jan 15, 2021 ', '26 mins', 'May 01, 2020 ', '3 mins', 'Dec 15, 2023', '4 mins', 'Dec 15, 2023', '6 mins', 'Dec 14, 2023', '7 mins', 'Sep 24, 2021', '20 mins', 'Sep 23, 2021', '17 mins', 'Sep 22, 2021', '14 mins', 'Nov 02, 2023', '2 mins', 'Oct 31, 2023', '2 mins', 'Oct 26, 2023', '2 mins']\n",
      "['Dec 12, 2023', '8 mins', 'Dec 07, 2023', '3 mins', 'Dec 05, 2023', '3 mins', 'Nov 30, 2023', '4 mins', 'Nov 28, 2023', '4 mins', 'Nov 17, 2023', '4 mins', 'Nov 15, 2023', '7 mins', 'Nov 14, 2023', '3 mins', 'Oct 25, 2023', '5 mins', 'Aug 22, 2023 ', '4 mins', 'Aug 22, 2023 ', '4 mins', 'Aug 09, 2023 ', '2 mins', 'Aug 01, 2023 ', '6 mins', 'Jul 27, 2023 ', '3 mins', 'Jul 18, 2023 ', '4 mins', 'Jul 14, 2023 ', '3 mins', 'Jun 21, 2023 ', '4 mins', 'Jun 15, 2023 ', '5 mins', 'Jun 14, 2023 ', '2 mins', 'Jun 08, 2023 ', '4 mins', 'Jun 06, 2023 ', '7 mins', 'Feb 15, 2024', '18:30-21:30 GMT', 'The Greenhouses, London', 'Mar 21, 2024', '9:30 am – 18:30', 'London, United Kingdom', 'May 16, 2024', '9:30 am – 18:30', 'London, United Kingdom', '15 Dec 2023', '15 Dec 2023', '15 Dec 2023', 'Oct 05, 2021 ', '25 mins', 'Jan 22, 2021 ', '34 mins', 'Jan 15, 2021 ', '26 mins', 'May 01, 2020 ', '3 mins', 'Dec 15, 2023', '4 mins', 'Dec 15, 2023', '6 mins', 'Dec 14, 2023', '7 mins', 'Sep 24, 2021', '20 mins', 'Sep 23, 2021', '17 mins', 'Sep 22, 2021', '14 mins', 'Nov 02, 2023', '2 mins', 'Oct 31, 2023', '2 mins', 'Oct 26, 2023', '2 mins']\n",
      "['Dec 12, 2023', '8 mins', 'Dec 07, 2023', '3 mins', 'Dec 05, 2023', '3 mins', 'Nov 30, 2023', '4 mins', 'Nov 28, 2023', '4 mins', 'Nov 17, 2023', '4 mins', 'Nov 15, 2023', '7 mins', 'Nov 14, 2023', '3 mins', 'Oct 25, 2023', '5 mins', 'Aug 22, 2023 ', '4 mins', 'Aug 22, 2023 ', '4 mins', 'Aug 09, 2023 ', '2 mins', 'Aug 01, 2023 ', '6 mins', 'Jul 27, 2023 ', '3 mins', 'Jul 18, 2023 ', '4 mins', 'Jul 14, 2023 ', '3 mins', 'Jun 21, 2023 ', '4 mins', 'Jun 15, 2023 ', '5 mins', 'Jun 14, 2023 ', '2 mins', 'Jun 08, 2023 ', '4 mins', 'Jun 06, 2023 ', '7 mins', 'Feb 15, 2024', '18:30-21:30 GMT', 'The Greenhouses, London', 'Mar 21, 2024', '9:30 am – 18:30', 'London, United Kingdom', 'May 16, 2024', '9:30 am – 18:30', 'London, United Kingdom', '15 Dec 2023', '15 Dec 2023', '15 Dec 2023', 'Oct 05, 2021 ', '25 mins', 'Jan 22, 2021 ', '34 mins', 'Jan 15, 2021 ', '26 mins', 'May 01, 2020 ', '3 mins', 'Dec 15, 2023', '4 mins', 'Dec 15, 2023', '6 mins', 'Dec 14, 2023', '7 mins', 'Sep 24, 2021', '20 mins', 'Sep 23, 2021', '17 mins', 'Sep 22, 2021', '14 mins', 'Nov 02, 2023', '2 mins', 'Oct 31, 2023', '2 mins', 'Oct 26, 2023', '2 mins']\n",
      "['Dec 12, 2023', '8 mins', 'Dec 07, 2023', '3 mins', 'Dec 05, 2023', '3 mins', 'Nov 30, 2023', '4 mins', 'Nov 28, 2023', '4 mins', 'Nov 17, 2023', '4 mins', 'Nov 15, 2023', '7 mins', 'Nov 14, 2023', '3 mins', 'Oct 25, 2023', '5 mins', 'Aug 22, 2023 ', '4 mins', 'Aug 22, 2023 ', '4 mins', 'Aug 09, 2023 ', '2 mins', 'Aug 01, 2023 ', '6 mins', 'Jul 27, 2023 ', '3 mins', 'Jul 18, 2023 ', '4 mins', 'Jul 14, 2023 ', '3 mins', 'Jun 21, 2023 ', '4 mins', 'Jun 15, 2023 ', '5 mins', 'Jun 14, 2023 ', '2 mins', 'Jun 08, 2023 ', '4 mins', 'Jun 06, 2023 ', '7 mins', 'Feb 15, 2024', '18:30-21:30 GMT', 'The Greenhouses, London', 'Mar 21, 2024', '9:30 am – 18:30', 'London, United Kingdom', 'May 16, 2024', '9:30 am – 18:30', 'London, United Kingdom', '15 Dec 2023', '15 Dec 2023', '15 Dec 2023', 'Oct 05, 2021 ', '25 mins', 'Jan 22, 2021 ', '34 mins', 'Jan 15, 2021 ', '26 mins', 'May 01, 2020 ', '3 mins', 'Dec 15, 2023', '4 mins', 'Dec 15, 2023', '6 mins', 'Dec 14, 2023', '7 mins', 'Sep 24, 2021', '20 mins', 'Sep 23, 2021', '17 mins', 'Sep 22, 2021', '14 mins', 'Nov 02, 2023', '2 mins', 'Oct 31, 2023', '2 mins', 'Oct 26, 2023', '2 mins']\n",
      "['Dec 12, 2023', '8 mins', 'Dec 07, 2023', '3 mins', 'Dec 05, 2023', '3 mins', 'Nov 30, 2023', '4 mins', 'Nov 28, 2023', '4 mins', 'Nov 17, 2023', '4 mins', 'Nov 15, 2023', '7 mins', 'Nov 14, 2023', '3 mins', 'Oct 25, 2023', '5 mins', 'Aug 22, 2023 ', '4 mins', 'Aug 22, 2023 ', '4 mins', 'Aug 09, 2023 ', '2 mins', 'Aug 01, 2023 ', '6 mins', 'Jul 27, 2023 ', '3 mins', 'Jul 18, 2023 ', '4 mins', 'Jul 14, 2023 ', '3 mins', 'Jun 21, 2023 ', '4 mins', 'Jun 15, 2023 ', '5 mins', 'Jun 14, 2023 ', '2 mins', 'Jun 08, 2023 ', '4 mins', 'Jun 06, 2023 ', '7 mins', 'Feb 15, 2024', '18:30-21:30 GMT', 'The Greenhouses, London', 'Mar 21, 2024', '9:30 am – 18:30', 'London, United Kingdom', 'May 16, 2024', '9:30 am – 18:30', 'London, United Kingdom', '15 Dec 2023', '15 Dec 2023', '15 Dec 2023', 'Oct 05, 2021 ', '25 mins', 'Jan 22, 2021 ', '34 mins', 'Jan 15, 2021 ', '26 mins', 'May 01, 2020 ', '3 mins', 'Dec 15, 2023', '4 mins', 'Dec 15, 2023', '6 mins', 'Dec 14, 2023', '7 mins', 'Sep 24, 2021', '20 mins', 'Sep 23, 2021', '17 mins', 'Sep 22, 2021', '14 mins', 'Nov 02, 2023', '2 mins', 'Oct 31, 2023', '2 mins', 'Oct 26, 2023', '2 mins']\n",
      "['Dec 12, 2023', '8 mins', 'Dec 07, 2023', '3 mins', 'Dec 05, 2023', '3 mins', 'Nov 30, 2023', '4 mins', 'Nov 28, 2023', '4 mins', 'Nov 17, 2023', '4 mins', 'Nov 15, 2023', '7 mins', 'Nov 14, 2023', '3 mins', 'Oct 25, 2023', '5 mins', 'Aug 22, 2023 ', '4 mins', 'Aug 22, 2023 ', '4 mins', 'Aug 09, 2023 ', '2 mins', 'Aug 01, 2023 ', '6 mins', 'Jul 27, 2023 ', '3 mins', 'Jul 18, 2023 ', '4 mins', 'Jul 14, 2023 ', '3 mins', 'Jun 21, 2023 ', '4 mins', 'Jun 15, 2023 ', '5 mins', 'Jun 14, 2023 ', '2 mins', 'Jun 08, 2023 ', '4 mins', 'Jun 06, 2023 ', '7 mins', 'Feb 15, 2024', '18:30-21:30 GMT', 'The Greenhouses, London', 'Mar 21, 2024', '9:30 am – 18:30', 'London, United Kingdom', 'May 16, 2024', '9:30 am – 18:30', 'London, United Kingdom', '15 Dec 2023', '15 Dec 2023', '15 Dec 2023', 'Oct 05, 2021 ', '25 mins', 'Jan 22, 2021 ', '34 mins', 'Jan 15, 2021 ', '26 mins', 'May 01, 2020 ', '3 mins', 'Dec 15, 2023', '4 mins', 'Dec 15, 2023', '6 mins', 'Dec 14, 2023', '7 mins', 'Sep 24, 2021', '20 mins', 'Sep 23, 2021', '17 mins', 'Sep 22, 2021', '14 mins', 'Nov 02, 2023', '2 mins', 'Oct 31, 2023', '2 mins', 'Oct 26, 2023', '2 mins']\n",
      "['Dec 12, 2023', '8 mins', 'Dec 07, 2023', '3 mins', 'Dec 05, 2023', '3 mins', 'Nov 30, 2023', '4 mins', 'Nov 28, 2023', '4 mins', 'Nov 17, 2023', '4 mins', 'Nov 15, 2023', '7 mins', 'Nov 14, 2023', '3 mins', 'Oct 25, 2023', '5 mins', 'Aug 22, 2023 ', '4 mins', 'Aug 22, 2023 ', '4 mins', 'Aug 09, 2023 ', '2 mins', 'Aug 01, 2023 ', '6 mins', 'Jul 27, 2023 ', '3 mins', 'Jul 18, 2023 ', '4 mins', 'Jul 14, 2023 ', '3 mins', 'Jun 21, 2023 ', '4 mins', 'Jun 15, 2023 ', '5 mins', 'Jun 14, 2023 ', '2 mins', 'Jun 08, 2023 ', '4 mins', 'Jun 06, 2023 ', '7 mins', 'Feb 15, 2024', '18:30-21:30 GMT', 'The Greenhouses, London', 'Mar 21, 2024', '9:30 am – 18:30', 'London, United Kingdom', 'May 16, 2024', '9:30 am – 18:30', 'London, United Kingdom', '15 Dec 2023', '15 Dec 2023', '15 Dec 2023', 'Oct 05, 2021 ', '25 mins', 'Jan 22, 2021 ', '34 mins', 'Jan 15, 2021 ', '26 mins', 'May 01, 2020 ', '3 mins', 'Dec 15, 2023', '4 mins', 'Dec 15, 2023', '6 mins', 'Dec 14, 2023', '7 mins', 'Sep 24, 2021', '20 mins', 'Sep 23, 2021', '17 mins', 'Sep 22, 2021', '14 mins', 'Nov 02, 2023', '2 mins', 'Oct 31, 2023', '2 mins', 'Oct 26, 2023', '2 mins']\n",
      "['Dec 12, 2023', '8 mins', 'Dec 07, 2023', '3 mins', 'Dec 05, 2023', '3 mins', 'Nov 30, 2023', '4 mins', 'Nov 28, 2023', '4 mins', 'Nov 17, 2023', '4 mins', 'Nov 15, 2023', '7 mins', 'Nov 14, 2023', '3 mins', 'Oct 25, 2023', '5 mins', 'Aug 22, 2023 ', '4 mins', 'Aug 22, 2023 ', '4 mins', 'Aug 09, 2023 ', '2 mins', 'Aug 01, 2023 ', '6 mins', 'Jul 27, 2023 ', '3 mins', 'Jul 18, 2023 ', '4 mins', 'Jul 14, 2023 ', '3 mins', 'Jun 21, 2023 ', '4 mins', 'Jun 15, 2023 ', '5 mins', 'Jun 14, 2023 ', '2 mins', 'Jun 08, 2023 ', '4 mins', 'Jun 06, 2023 ', '7 mins', 'Feb 15, 2024', '18:30-21:30 GMT', 'The Greenhouses, London', 'Mar 21, 2024', '9:30 am – 18:30', 'London, United Kingdom', 'May 16, 2024', '9:30 am – 18:30', 'London, United Kingdom', '15 Dec 2023', '15 Dec 2023', '15 Dec 2023', 'Oct 05, 2021 ', '25 mins', 'Jan 22, 2021 ', '34 mins', 'Jan 15, 2021 ', '26 mins', 'May 01, 2020 ', '3 mins', 'Dec 15, 2023', '4 mins', 'Dec 15, 2023', '6 mins', 'Dec 14, 2023', '7 mins', 'Sep 24, 2021', '20 mins', 'Sep 23, 2021', '17 mins', 'Sep 22, 2021', '14 mins', 'Nov 02, 2023', '2 mins', 'Oct 31, 2023', '2 mins', 'Oct 26, 2023', '2 mins']\n",
      "['Dec 12, 2023', '8 mins', 'Dec 07, 2023', '3 mins', 'Dec 05, 2023', '3 mins', 'Nov 30, 2023', '4 mins', 'Nov 28, 2023', '4 mins', 'Nov 17, 2023', '4 mins', 'Nov 15, 2023', '7 mins', 'Nov 14, 2023', '3 mins', 'Oct 25, 2023', '5 mins', 'Aug 22, 2023 ', '4 mins', 'Aug 22, 2023 ', '4 mins', 'Aug 09, 2023 ', '2 mins', 'Aug 01, 2023 ', '6 mins', 'Jul 27, 2023 ', '3 mins', 'Jul 18, 2023 ', '4 mins', 'Jul 14, 2023 ', '3 mins', 'Jun 21, 2023 ', '4 mins', 'Jun 15, 2023 ', '5 mins', 'Jun 14, 2023 ', '2 mins', 'Jun 08, 2023 ', '4 mins', 'Jun 06, 2023 ', '7 mins', 'Feb 15, 2024', '18:30-21:30 GMT', 'The Greenhouses, London', 'Mar 21, 2024', '9:30 am – 18:30', 'London, United Kingdom', 'May 16, 2024', '9:30 am – 18:30', 'London, United Kingdom', '15 Dec 2023', '15 Dec 2023', '15 Dec 2023', 'Oct 05, 2021 ', '25 mins', 'Jan 22, 2021 ', '34 mins', 'Jan 15, 2021 ', '26 mins', 'May 01, 2020 ', '3 mins', 'Dec 15, 2023', '4 mins', 'Dec 15, 2023', '6 mins', 'Dec 14, 2023', '7 mins', 'Sep 24, 2021', '20 mins', 'Sep 23, 2021', '17 mins', 'Sep 22, 2021', '14 mins', 'Nov 02, 2023', '2 mins', 'Oct 31, 2023', '2 mins', 'Oct 26, 2023', '2 mins']\n",
      "['Dec 12, 2023', '8 mins', 'Dec 07, 2023', '3 mins', 'Dec 05, 2023', '3 mins', 'Nov 30, 2023', '4 mins', 'Nov 28, 2023', '4 mins', 'Nov 17, 2023', '4 mins', 'Nov 15, 2023', '7 mins', 'Nov 14, 2023', '3 mins', 'Oct 25, 2023', '5 mins', 'Aug 22, 2023 ', '4 mins', 'Aug 22, 2023 ', '4 mins', 'Aug 09, 2023 ', '2 mins', 'Aug 01, 2023 ', '6 mins', 'Jul 27, 2023 ', '3 mins', 'Jul 18, 2023 ', '4 mins', 'Jul 14, 2023 ', '3 mins', 'Jun 21, 2023 ', '4 mins', 'Jun 15, 2023 ', '5 mins', 'Jun 14, 2023 ', '2 mins', 'Jun 08, 2023 ', '4 mins', 'Jun 06, 2023 ', '7 mins', 'Feb 15, 2024', '18:30-21:30 GMT', 'The Greenhouses, London', 'Mar 21, 2024', '9:30 am – 18:30', 'London, United Kingdom', 'May 16, 2024', '9:30 am – 18:30', 'London, United Kingdom', '15 Dec 2023', '15 Dec 2023', '15 Dec 2023', 'Oct 05, 2021 ', '25 mins', 'Jan 22, 2021 ', '34 mins', 'Jan 15, 2021 ', '26 mins', 'May 01, 2020 ', '3 mins', 'Dec 15, 2023', '4 mins', 'Dec 15, 2023', '6 mins', 'Dec 14, 2023', '7 mins', 'Sep 24, 2021', '20 mins', 'Sep 23, 2021', '17 mins', 'Sep 22, 2021', '14 mins', 'Nov 02, 2023', '2 mins', 'Oct 31, 2023', '2 mins', 'Oct 26, 2023', '2 mins']\n",
      "['Dec 12, 2023', '8 mins', 'Dec 07, 2023', '3 mins', 'Dec 05, 2023', '3 mins', 'Nov 30, 2023', '4 mins', 'Nov 28, 2023', '4 mins', 'Nov 17, 2023', '4 mins', 'Nov 15, 2023', '7 mins', 'Nov 14, 2023', '3 mins', 'Oct 25, 2023', '5 mins', 'Aug 22, 2023 ', '4 mins', 'Aug 22, 2023 ', '4 mins', 'Aug 09, 2023 ', '2 mins', 'Aug 01, 2023 ', '6 mins', 'Jul 27, 2023 ', '3 mins', 'Jul 18, 2023 ', '4 mins', 'Jul 14, 2023 ', '3 mins', 'Jun 21, 2023 ', '4 mins', 'Jun 15, 2023 ', '5 mins', 'Jun 14, 2023 ', '2 mins', 'Jun 08, 2023 ', '4 mins', 'Jun 06, 2023 ', '7 mins', 'Feb 15, 2024', '18:30-21:30 GMT', 'The Greenhouses, London', 'Mar 21, 2024', '9:30 am – 18:30', 'London, United Kingdom', 'May 16, 2024', '9:30 am – 18:30', 'London, United Kingdom', '15 Dec 2023', '15 Dec 2023', '15 Dec 2023', 'Oct 05, 2021 ', '25 mins', 'Jan 22, 2021 ', '34 mins', 'Jan 15, 2021 ', '26 mins', 'May 01, 2020 ', '3 mins', 'Dec 15, 2023', '4 mins', 'Dec 15, 2023', '6 mins', 'Dec 14, 2023', '7 mins', 'Sep 24, 2021', '20 mins', 'Sep 23, 2021', '17 mins', 'Sep 22, 2021', '14 mins', 'Nov 02, 2023', '2 mins', 'Oct 31, 2023', '2 mins', 'Oct 26, 2023', '2 mins']\n",
      "['Dec 12, 2023', '8 mins', 'Dec 07, 2023', '3 mins', 'Dec 05, 2023', '3 mins', 'Nov 30, 2023', '4 mins', 'Nov 28, 2023', '4 mins', 'Nov 17, 2023', '4 mins', 'Nov 15, 2023', '7 mins', 'Nov 14, 2023', '3 mins', 'Oct 25, 2023', '5 mins', 'Aug 22, 2023 ', '4 mins', 'Aug 22, 2023 ', '4 mins', 'Aug 09, 2023 ', '2 mins', 'Aug 01, 2023 ', '6 mins', 'Jul 27, 2023 ', '3 mins', 'Jul 18, 2023 ', '4 mins', 'Jul 14, 2023 ', '3 mins', 'Jun 21, 2023 ', '4 mins', 'Jun 15, 2023 ', '5 mins', 'Jun 14, 2023 ', '2 mins', 'Jun 08, 2023 ', '4 mins', 'Jun 06, 2023 ', '7 mins', 'Feb 15, 2024', '18:30-21:30 GMT', 'The Greenhouses, London', 'Mar 21, 2024', '9:30 am – 18:30', 'London, United Kingdom', 'May 16, 2024', '9:30 am – 18:30', 'London, United Kingdom', '15 Dec 2023', '15 Dec 2023', '15 Dec 2023', 'Oct 05, 2021 ', '25 mins', 'Jan 22, 2021 ', '34 mins', 'Jan 15, 2021 ', '26 mins', 'May 01, 2020 ', '3 mins', 'Dec 15, 2023', '4 mins', 'Dec 15, 2023', '6 mins', 'Dec 14, 2023', '7 mins', 'Sep 24, 2021', '20 mins', 'Sep 23, 2021', '17 mins', 'Sep 22, 2021', '14 mins', 'Nov 02, 2023', '2 mins', 'Oct 31, 2023', '2 mins', 'Oct 26, 2023', '2 mins']\n",
      "['Dec 12, 2023', '8 mins', 'Dec 07, 2023', '3 mins', 'Dec 05, 2023', '3 mins', 'Nov 30, 2023', '4 mins', 'Nov 28, 2023', '4 mins', 'Nov 17, 2023', '4 mins', 'Nov 15, 2023', '7 mins', 'Nov 14, 2023', '3 mins', 'Oct 25, 2023', '5 mins', 'Aug 22, 2023 ', '4 mins', 'Aug 22, 2023 ', '4 mins', 'Aug 09, 2023 ', '2 mins', 'Aug 01, 2023 ', '6 mins', 'Jul 27, 2023 ', '3 mins', 'Jul 18, 2023 ', '4 mins', 'Jul 14, 2023 ', '3 mins', 'Jun 21, 2023 ', '4 mins', 'Jun 15, 2023 ', '5 mins', 'Jun 14, 2023 ', '2 mins', 'Jun 08, 2023 ', '4 mins', 'Jun 06, 2023 ', '7 mins', 'Feb 15, 2024', '18:30-21:30 GMT', 'The Greenhouses, London', 'Mar 21, 2024', '9:30 am – 18:30', 'London, United Kingdom', 'May 16, 2024', '9:30 am – 18:30', 'London, United Kingdom', '15 Dec 2023', '15 Dec 2023', '15 Dec 2023', 'Oct 05, 2021 ', '25 mins', 'Jan 22, 2021 ', '34 mins', 'Jan 15, 2021 ', '26 mins', 'May 01, 2020 ', '3 mins', 'Dec 15, 2023', '4 mins', 'Dec 15, 2023', '6 mins', 'Dec 14, 2023', '7 mins', 'Sep 24, 2021', '20 mins', 'Sep 23, 2021', '17 mins', 'Sep 22, 2021', '14 mins', 'Nov 02, 2023', '2 mins', 'Oct 31, 2023', '2 mins', 'Oct 26, 2023', '2 mins']\n",
      "['Dec 12, 2023', '8 mins', 'Dec 07, 2023', '3 mins', 'Dec 05, 2023', '3 mins', 'Nov 30, 2023', '4 mins', 'Nov 28, 2023', '4 mins', 'Nov 17, 2023', '4 mins', 'Nov 15, 2023', '7 mins', 'Nov 14, 2023', '3 mins', 'Oct 25, 2023', '5 mins', 'Aug 22, 2023 ', '4 mins', 'Aug 22, 2023 ', '4 mins', 'Aug 09, 2023 ', '2 mins', 'Aug 01, 2023 ', '6 mins', 'Jul 27, 2023 ', '3 mins', 'Jul 18, 2023 ', '4 mins', 'Jul 14, 2023 ', '3 mins', 'Jun 21, 2023 ', '4 mins', 'Jun 15, 2023 ', '5 mins', 'Jun 14, 2023 ', '2 mins', 'Jun 08, 2023 ', '4 mins', 'Jun 06, 2023 ', '7 mins', 'Feb 15, 2024', '18:30-21:30 GMT', 'The Greenhouses, London', 'Mar 21, 2024', '9:30 am – 18:30', 'London, United Kingdom', 'May 16, 2024', '9:30 am – 18:30', 'London, United Kingdom', '15 Dec 2023', '15 Dec 2023', '15 Dec 2023', 'Oct 05, 2021 ', '25 mins', 'Jan 22, 2021 ', '34 mins', 'Jan 15, 2021 ', '26 mins', 'May 01, 2020 ', '3 mins', 'Dec 15, 2023', '4 mins', 'Dec 15, 2023', '6 mins', 'Dec 14, 2023', '7 mins', 'Sep 24, 2021', '20 mins', 'Sep 23, 2021', '17 mins', 'Sep 22, 2021', '14 mins', 'Nov 02, 2023', '2 mins', 'Oct 31, 2023', '2 mins', 'Oct 26, 2023', '2 mins']\n",
      "['Dec 12, 2023', '8 mins', 'Dec 07, 2023', '3 mins', 'Dec 05, 2023', '3 mins', 'Nov 30, 2023', '4 mins', 'Nov 28, 2023', '4 mins', 'Nov 17, 2023', '4 mins', 'Nov 15, 2023', '7 mins', 'Nov 14, 2023', '3 mins', 'Oct 25, 2023', '5 mins', 'Aug 22, 2023 ', '4 mins', 'Aug 22, 2023 ', '4 mins', 'Aug 09, 2023 ', '2 mins', 'Aug 01, 2023 ', '6 mins', 'Jul 27, 2023 ', '3 mins', 'Jul 18, 2023 ', '4 mins', 'Jul 14, 2023 ', '3 mins', 'Jun 21, 2023 ', '4 mins', 'Jun 15, 2023 ', '5 mins', 'Jun 14, 2023 ', '2 mins', 'Jun 08, 2023 ', '4 mins', 'Jun 06, 2023 ', '7 mins', 'Feb 15, 2024', '18:30-21:30 GMT', 'The Greenhouses, London', 'Mar 21, 2024', '9:30 am – 18:30', 'London, United Kingdom', 'May 16, 2024', '9:30 am – 18:30', 'London, United Kingdom', '15 Dec 2023', '15 Dec 2023', '15 Dec 2023', 'Oct 05, 2021 ', '25 mins', 'Jan 22, 2021 ', '34 mins', 'Jan 15, 2021 ', '26 mins', 'May 01, 2020 ', '3 mins', 'Dec 15, 2023', '4 mins', 'Dec 15, 2023', '6 mins', 'Dec 14, 2023', '7 mins', 'Sep 24, 2021', '20 mins', 'Sep 23, 2021', '17 mins', 'Sep 22, 2021', '14 mins', 'Nov 02, 2023', '2 mins', 'Oct 31, 2023', '2 mins', 'Oct 26, 2023', '2 mins']\n"
     ]
    }
   ],
   "source": [
    "for a in sel.xpath('//a[contains(@class, \"card\")]'):\n",
    "    print(a.xpath('//div[contains (@class, \"card__info--light\")]/span/text()').extract())"
   ]
  },
  {
   "cell_type": "code",
   "execution_count": null,
   "id": "8a9b6ec2-ab14-475b-be9f-8c9d8e5b7e6c",
   "metadata": {},
   "outputs": [],
   "source": [
    "sel.xpath('//a[contains(@class, \"card\")]/@href').extract()"
   ]
  }
 ],
 "metadata": {
  "kernelspec": {
   "display_name": "Python 3 (ipykernel)",
   "language": "python",
   "name": "python3"
  },
  "language_info": {
   "codemirror_mode": {
    "name": "ipython",
    "version": 3
   },
   "file_extension": ".py",
   "mimetype": "text/x-python",
   "name": "python",
   "nbconvert_exporter": "python",
   "pygments_lexer": "ipython3",
   "version": "3.11.4"
  }
 },
 "nbformat": 4,
 "nbformat_minor": 5
}
