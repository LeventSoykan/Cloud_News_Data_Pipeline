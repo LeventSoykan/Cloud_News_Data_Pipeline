{
 "cells": [
  {
   "cell_type": "code",
   "execution_count": 1,
   "id": "f0326167-ad20-4395-8854-6acc9d9aef6a",
   "metadata": {},
   "outputs": [],
   "source": [
    "from cloud_spider import NWSpider"
   ]
  },
  {
   "cell_type": "code",
   "execution_count": 2,
   "id": "dc563f6c",
   "metadata": {},
   "outputs": [
    {
     "name": "stdout",
     "output_type": "stream",
     "text": [
      "\n",
      "\n",
      "\n",
      "\n",
      "\n",
      "\n",
      "\n",
      "\n"
     ]
    }
   ],
   "source": [
    "url = 'https://www.networkworld.com/cloud-computing/'\n",
    "spider = NWSpider(url)\n",
    "spider.extract()"
   ]
  },
  {
   "cell_type": "code",
   "execution_count": null,
   "id": "8fd2fb80",
   "metadata": {},
   "outputs": [],
   "source": []
  }
 ],
 "metadata": {
  "kernelspec": {
   "display_name": "Python 3 (ipykernel)",
   "language": "python",
   "name": "python3"
  },
  "language_info": {
   "codemirror_mode": {
    "name": "ipython",
    "version": 3
   },
   "file_extension": ".py",
   "mimetype": "text/x-python",
   "name": "python",
   "nbconvert_exporter": "python",
   "pygments_lexer": "ipython3",
   "version": "3.11.1"
  }
 },
 "nbformat": 4,
 "nbformat_minor": 5
}
