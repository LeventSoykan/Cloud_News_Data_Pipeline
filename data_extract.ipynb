{
 "cells": [
  {
   "cell_type": "code",
   "execution_count": 1,
   "id": "f0326167-ad20-4395-8854-6acc9d9aef6a",
   "metadata": {},
   "outputs": [],
   "source": [
    "from cloud_spider import NWSpider"
   ]
  },
  {
   "cell_type": "code",
   "execution_count": 2,
   "id": "dc563f6c",
   "metadata": {},
   "outputs": [
    {
     "name": "stdout",
     "output_type": "stream",
     "text": [
      "\n",
      "\n",
      "\n",
      "\n",
      "\n",
      "\n",
      "\n",
      "\n"
     ]
    }
   ],
   "source": [
    "url = 'https://www.networkworld.com/cloud-computing/'\n",
    "spider = NWSpider(url)\n",
    "spider.extract()"
   ]
  },
  {
   "cell_type": "code",
   "execution_count": 1,
   "id": "aec84f05",
   "metadata": {},
   "outputs": [],
   "source": [
    "from bs4 import BeautifulSoup\n",
    "import requests\n",
    "import pandas as pd\n",
    "from datetime import datetime as dt\n",
    "from sqlalchemy import create_engine\n",
    "import os"
   ]
  },
  {
   "cell_type": "code",
   "execution_count": 2,
   "id": "8fd2fb80",
   "metadata": {},
   "outputs": [],
   "source": [
    "class NWSpider():\n",
    "    def __init__(self, url):\n",
    "        conn_url = os.environ.get('POSTGRES_CONNECTION_STRING')\n",
    "        self.engine = create_engine(f'{conn_url}cloudnewsdb')\n",
    "        self.data = []\n",
    "        self.url = url\n",
    "\n",
    "        source = requests.get(url).text\n",
    "        self.soup = BeautifulSoup(source, 'lxml')\n",
    "\n",
    "    def extract(self):\n",
    "        for a in self.soup.find_all('a', attrs={'class': 'card'}):\n",
    "            date = a.find_next('div', attrs={'class': 'card__info--light'}).find_next('span').text\n",
    "            if 'dec' in date.lower():\n",
    "                self.data.append({\n",
    "                    'title': a.find_next('h4').text,\n",
    "                    'url': a['href'],\n",
    "                    'date': date,\n",
    "                    'source': 'Network World',\n",
    "                    'query_date': dt.now()\n",
    "                })\n",
    "        df = pd.DataFrame(self.data)\n",
    "        df.to_sql('raw', self.engine, if_exists='replace')"
   ]
  },
  {
   "cell_type": "code",
   "execution_count": 3,
   "id": "b85b5a9f",
   "metadata": {},
   "outputs": [],
   "source": [
    "url = 'https://www.ciodive.com/topic/cloud/'\n",
    "source = requests.get(url).text\n",
    "soup = BeautifulSoup(source, 'lxml')"
   ]
  },
  {
   "cell_type": "code",
   "execution_count": 16,
   "id": "50c9be15",
   "metadata": {},
   "outputs": [
    {
     "name": "stdout",
     "output_type": "stream",
     "text": [
      "{'title': 'SAP adds board-level cloud migration unit, reshuffles executive roles', 'url': '/news/sap-board-add-cloud-unit-saas-enterprise-software-shift/704273/', 'date': 'Jan. 11, 2024', 'source': 'Ciodive', 'query_date': datetime.datetime(2024, 1, 11, 21, 42, 37, 19071)}\n",
      "{'title': 'Nvidia unveils laptop AI chip, developer toolkit', 'url': '/news/nvidia-laptop-pc-gpu-generative-ai-processor/704227/', 'date': 'Jan. 10, 2024', 'source': 'Ciodive', 'query_date': datetime.datetime(2024, 1, 11, 21, 42, 37, 20134)}\n",
      "<li class=\"row feed__item\">\n",
      "<div class=\"medium-6 columns\">\n",
      "<figure class=\"feed__image-container feed__image-container-trendline\">\n",
      "<a class=\"feed__image\" href=\"/trendline/hybrid-cloud/391/\">\n",
      "<img alt=\"A large cloud icon with smaller tech icons connected to the cloud icon\" class=\"\" height=\"675\" sizes=\"(min-width: 40em ) 25vw, 100vw\" src=\"/imgproxy/5XveLrgr9Ljur_JLOTxcWt3fpHUU8lQOb6oKKtLsilo/g:ce/rs:fill:1200:675:1/bG9jYWw6Ly8vZGl2ZWltYWdlL2Nsb3VkLWxvZ28tdjIuanBn.jpg\" srcset=\"/imgproxy/F9UBPTtocvYnIwVogXgbcA0CTgeBWZ-ONY8zgEFR2hQ/g:ce/rs:fill:300:169:1/bG9jYWw6Ly8vZGl2ZWltYWdlL2Nsb3VkLWxvZ28tdjIuanBn.jpg 300w, /imgproxy/bHs1_z8ShakigSJ43wTlTSyPTSutL73PvppUqJJj4P4/g:ce/rs:fill:600:338:1/bG9jYWw6Ly8vZGl2ZWltYWdlL2Nsb3VkLWxvZ28tdjIuanBn.jpg 600w, /imgproxy/5XveLrgr9Ljur_JLOTxcWt3fpHUU8lQOb6oKKtLsilo/g:ce/rs:fill:1200:675:1/bG9jYWw6Ly8vZGl2ZWltYWdlL2Nsb3VkLWxvZ28tdjIuanBn.jpg 1200w\" width=\"1200\"/>\n",
      "</a><a class=\"feed__cta\" href=\"/trendline/hybrid-cloud/391/\">\n",
      "                    Explore the Trendline<span class=\"feed__cta-arrow\">➔</span>\n",
      "</a>\n",
      "<figcaption>\n",
      "<img alt=\"Image attribution tooltip\" class=\"feed__attribution-icon\" height=\"16\" src=\"/static/images/info-icon.png?234917240220\" tabindex=\"0\" width=\"16\"/>\n",
      "<div class=\"feed__attribution\">phonlamaiphoto. Retrieved from <a href=\"https://stock.adobe.com/images/cloud-computing-technology/220604499?as_campaign=TinEye&amp;as_content=tineye_match&amp;clickref=1011lwvykb5h&amp;mv=affiliate&amp;mv2=pz&amp;as_camptype=backlink&amp;as_channel=affiliate&amp;as_so\" target=\"_blank\">Adobe Stock</a>.</div>\n",
      "<img alt=\"Image attribution tooltip\" class=\"feed__attribution-icon\" height=\"16\" src=\"/static/images/info-icon.png?234917240220\" tabindex=\"-1\" width=\"16\"/>\n",
      "</figcaption>\n",
      "</figure>\n",
      "</div>\n",
      "<div class=\"medium-6 columns\">\n",
      "<div class=\"label label--medium\">Trendline</div>\n",
      "<h3 class=\"feed__title feed__title--display\">\n",
      "<a class=\"\" href=\"/trendline/hybrid-cloud/391/\">Hybrid cloud</a>\n",
      "</h3>\n",
      "<p class=\"feed__description\">IT decision makers turn to hybrid cloud in search of security, flexibility and scale within enterprise infrastructure.</p>\n",
      "<span class=\"secondary-label\"> By CIO Dive staff</span>\n",
      "</div>\n",
      "</li>\n",
      "{'title': 'Hybrid cloud', 'url': '/trendline/hybrid-cloud/391/', 'date': 'Jan. 10, 2024', 'source': 'Ciodive', 'query_date': datetime.datetime(2024, 1, 11, 21, 42, 37, 20134)}\n",
      "{'title': 'CompTIA bolsters training portfolio, adds AI fundamentals and AWS pro certs', 'url': '/news/comptia-ai-cloud-data-cyber-training-certifications/703594/', 'date': 'Jan. 3, 2024', 'source': 'Ciodive', 'query_date': datetime.datetime(2024, 1, 11, 21, 42, 37, 20134)}\n",
      "{'title': 'Enterprises plan to boost reliance on distributed cloud', 'url': '/news/distributed-cloud-edge-workloads-analytics-AI-adoption/703456/', 'date': 'Jan. 2, 2024', 'source': 'Ciodive', 'query_date': datetime.datetime(2024, 1, 11, 21, 42, 37, 22261)}\n",
      "{'title': 'Industry clouds set for slow start in the new year: Forrester', 'url': '/news/industry-cloud-solutions-spread-stalls-Forrester-/703282/', 'date': 'Dec. 21, 2023', 'source': 'Ciodive', 'query_date': datetime.datetime(2024, 1, 11, 21, 42, 37, 22640)}\n",
      "{'title': 'How Capital One, Arvest Bank keep cloud costs under control', 'url': '/news/cloud-cost-control-capital-one-arvest-bank/703025/', 'date': 'Dec. 20, 2023', 'source': 'Ciodive', 'query_date': datetime.datetime(2024, 1, 11, 21, 42, 37, 22640)}\n",
      "{'title': 'Gartner elevates Oracle in annual hyperscaler assessment', 'url': '/news/Gartner-elevates-Oracle-hyperscaler-Magic-Quadrant/702716/', 'date': 'Dec. 18, 2023', 'source': 'Ciodive', 'query_date': datetime.datetime(2024, 1, 11, 21, 42, 37, 22640)}\n",
      "{'title': 'Enterprise cloud aspirations hindered by buyer’s remorse', 'url': '/news/cloud-buyer-remorse-IBM-Consulting-HFS-Research/702584/', 'date': 'Dec. 14, 2023', 'source': 'Ciodive', 'query_date': datetime.datetime(2024, 1, 11, 21, 42, 37, 22640)}\n",
      "{'title': 'Software spend to rebound in 2024 as ERP, database move to SaaS', 'url': '/news/SaaS-drives-software-spend-in-cloud-Forrester/702473/', 'date': 'Dec. 13, 2023', 'source': 'Ciodive', 'query_date': datetime.datetime(2024, 1, 11, 21, 42, 37, 22640)}\n",
      "{'title': 'Oracle embarks on data center building spree', 'url': '/news/Oracle-cloud-data-center-building-spree-Microsoft-Azure/702344/', 'date': 'Dec. 12, 2023', 'source': 'Ciodive', 'query_date': datetime.datetime(2024, 1, 11, 21, 42, 37, 23644)}\n",
      "{'title': '‘Tis the season for a retail tech-stack rethink', 'url': '/news/retails-tech-stack-CIOs-modernization-strategy-Bain-Aptos/702185/', 'date': 'Dec. 12, 2023', 'source': 'Ciodive', 'query_date': datetime.datetime(2024, 1, 11, 21, 42, 37, 23644)}\n",
      "{'title': 'Cloud customers undeterred by cost, billing complexity', 'url': '/news/cloud-customers-undeterred-cost-complexity-multicloud-Forrester/702074/', 'date': 'Dec. 11, 2023', 'source': 'Ciodive', 'query_date': datetime.datetime(2024, 1, 11, 21, 42, 37, 23644)}\n",
      "{'title': 'McDonald’s taps Google Cloud to super-size analytics, AI', 'url': '/news/McDonalds-Google-Distributed-Cloud-VertexAI-partership/701901/', 'date': 'Dec. 7, 2023', 'source': 'Ciodive', 'query_date': datetime.datetime(2024, 1, 11, 21, 42, 37, 23644)}\n",
      "{'title': 'Accenture helps Unilever boost AI adoption', 'url': '/news/Accenture-Unilever-partnership-generative-AI-innovation/701754/', 'date': 'Dec. 6, 2023', 'source': 'Ciodive', 'query_date': datetime.datetime(2024, 1, 11, 21, 42, 37, 23644)}\n",
      "{'title': 'Cloudflare doubles down on inference workloads', 'url': '/news/Cloudflare-inference-GPUs-cloud-network-CEO-Matthew-Prince/701651/', 'date': 'Dec. 5, 2023', 'source': 'Ciodive', 'query_date': datetime.datetime(2024, 1, 11, 21, 42, 37, 24644)}\n",
      "{'title': 'For Arvest Bank, wholesale cloud modernization had to start small', 'url': '/news/Arvest-Bank-tech-modernization-transformation-leadership/701475/', 'date': 'Dec. 5, 2023', 'source': 'Ciodive', 'query_date': datetime.datetime(2024, 1, 11, 21, 42, 37, 24644)}\n",
      "{'title': 'Snowflake reports consumption boom as data rushes to cloud', 'url': '/news/Snowflake-data-cloud-consumption-rises-generative-AI/701290/', 'date': 'Dec. 1, 2023', 'source': 'Ciodive', 'query_date': datetime.datetime(2024, 1, 11, 21, 42, 37, 24644)}\n"
     ]
    }
   ],
   "source": [
    "for li in soup.select('li.row.feed__item'):\n",
    "    a = li.find_next('h3', attrs={'class': 'feed__title'}).find_next('a')\n",
    "    url = a['href']\n",
    "    title = a.text.strip()\n",
    "    try:\n",
    "        date = li.find_all('span', attrs={'class':'secondary-label'})[1].text\n",
    "    except:\n",
    "        print(li)\n",
    "    if 'jan' in date.lower() or 'dec' in date.lower():\n",
    "        print({\n",
    "        'title':title,\n",
    "        'url': url,\n",
    "        'date': date,\n",
    "        'source': 'Ciodive',\n",
    "        'query_date': dt.now()\n",
    "    })"
   ]
  },
  {
   "cell_type": "code",
   "execution_count": null,
   "id": "0f53b92c",
   "metadata": {},
   "outputs": [],
   "source": []
  }
 ],
 "metadata": {
  "kernelspec": {
   "display_name": "Python 3 (ipykernel)",
   "language": "python",
   "name": "python3"
  },
  "language_info": {
   "codemirror_mode": {
    "name": "ipython",
    "version": 3
   },
   "file_extension": ".py",
   "mimetype": "text/x-python",
   "name": "python",
   "nbconvert_exporter": "python",
   "pygments_lexer": "ipython3",
   "version": "3.11.1"
  }
 },
 "nbformat": 4,
 "nbformat_minor": 5
}
