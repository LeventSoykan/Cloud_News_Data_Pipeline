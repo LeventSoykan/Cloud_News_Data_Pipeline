{
 "cells": [
  {
   "cell_type": "code",
   "execution_count": 1,
   "id": "f0326167-ad20-4395-8854-6acc9d9aef6a",
   "metadata": {},
   "outputs": [],
   "source": [
    "from cloud_spider import NWSpider"
   ]
  },
  {
   "cell_type": "code",
   "execution_count": 2,
   "id": "dc563f6c",
   "metadata": {},
   "outputs": [
    {
     "name": "stdout",
     "output_type": "stream",
     "text": [
      "\n",
      "\n",
      "\n",
      "\n",
      "\n",
      "\n",
      "\n",
      "\n"
     ]
    }
   ],
   "source": [
    "url = 'https://www.networkworld.com/cloud-computing/'\n",
    "spider = NWSpider(url)\n",
    "spider.extract()"
   ]
  },
  {
   "cell_type": "code",
   "execution_count": 23,
   "id": "aec84f05",
   "metadata": {},
   "outputs": [],
   "source": [
    "from bs4 import BeautifulSoup\n",
    "import requests\n",
    "import pandas as pd\n",
    "from datetime import datetime as dt\n",
    "from sqlalchemy import create_engine\n",
    "import os\n",
    "from urllib.request import Request, urlopen\n"
   ]
  },
  {
   "cell_type": "code",
   "execution_count": 2,
   "id": "8fd2fb80",
   "metadata": {},
   "outputs": [],
   "source": [
    "class NWSpider():\n",
    "    def __init__(self, url):\n",
    "        conn_url = os.environ.get('POSTGRES_CONNECTION_STRING')\n",
    "        self.engine = create_engine(f'{conn_url}cloudnewsdb')\n",
    "        self.data = []\n",
    "        self.url = url\n",
    "\n",
    "        source = requests.get(url).text\n",
    "        self.soup = BeautifulSoup(source, 'lxml')\n",
    "\n",
    "    def extract(self):\n",
    "        for a in self.soup.find_all('a', attrs={'class': 'card'}):\n",
    "            date = a.find_next('div', attrs={'class': 'card__info--light'}).find_next('span').text\n",
    "            if 'dec' in date.lower():\n",
    "                self.data.append({\n",
    "                    'title': a.find_next('h4').text,\n",
    "                    'url': a['href'],\n",
    "                    'date': date,\n",
    "                    'source': 'Network World',\n",
    "                    'query_date': dt.now()\n",
    "                })\n",
    "        df = pd.DataFrame(self.data)\n",
    "        df.to_sql('raw', self.engine, if_exists='replace')"
   ]
  },
  {
   "cell_type": "code",
   "execution_count": 8,
   "id": "c148b9c6-43ef-4e22-9f8d-b84838395260",
   "metadata": {},
   "outputs": [
    {
     "data": {
      "text/plain": [
       "'jan'"
      ]
     },
     "execution_count": 8,
     "metadata": {},
     "output_type": "execute_result"
    }
   ],
   "source": [
    "dt.strftime(dt.today(), format='%b').lower()"
   ]
  },
  {
   "cell_type": "code",
   "execution_count": 24,
   "id": "b85b5a9f",
   "metadata": {},
   "outputs": [],
   "source": [
    "url = 'https://www.ciodive.com/topic/cloud/'\n",
    "source = requests.get(url).text\n",
    "soup = BeautifulSoup(source, 'lxml')"
   ]
  },
  {
   "cell_type": "code",
   "execution_count": 13,
   "id": "50c9be15",
   "metadata": {},
   "outputs": [],
   "source": [
    "data = []\n",
    "for li in soup.select('li.row.feed__item'):\n",
    "    a = li.find_next('h3', attrs={'class': 'feed__title'}).find_next('a')\n",
    "    url = a['href']\n",
    "    title = a.text.strip()\n",
    "    try:\n",
    "        date = li.find_all('span', attrs={'class':'secondary-label'})[1].text\n",
    "    except:\n",
    "        pass\n",
    "    data.append({\n",
    "    'title':title,\n",
    "    'url': url,\n",
    "    'date': date,\n",
    "    'source': 'Ciodive',\n",
    "    'query_date': dt.now()\n",
    "    })"
   ]
  },
  {
   "cell_type": "code",
   "execution_count": 25,
   "id": "0f53b92c",
   "metadata": {},
   "outputs": [],
   "source": [
    "url = 'https://www.cloudcomputing-news.net/categories/cloud-computing-companies/'\n",
    "req = Request(url, headers={'User-Agent': 'Mozilla/5.0'})\n",
    "page = urlopen(req).read()\n",
    "soup = BeautifulSoup(page, 'lxml')"
   ]
  },
  {
   "cell_type": "code",
   "execution_count": 30,
   "id": "b788609b-9e27-4193-bac1-2178ba480a70",
   "metadata": {},
   "outputs": [
    {
     "data": {
      "text/plain": [
       "[{'title': 'FTC extends cloud competition scrutiny to generative AI',\n",
       "  'url': '/news/FTC-cloud-competition-risk-hearing-generative-AI-Lina-Khan/700232/',\n",
       "  'date': '10 January 2024',\n",
       "  'source': 'Cloudtech',\n",
       "  'query_date': datetime.datetime(2024, 1, 12, 14, 16, 23, 824811)},\n",
       " {'title': 'FTC extends cloud competition scrutiny to generative AI',\n",
       "  'url': '/news/FTC-cloud-competition-risk-hearing-generative-AI-Lina-Khan/700232/',\n",
       "  'date': '9 January 2024',\n",
       "  'source': 'Cloudtech',\n",
       "  'query_date': datetime.datetime(2024, 1, 12, 14, 16, 23, 825810)},\n",
       " {'title': 'FTC extends cloud competition scrutiny to generative AI',\n",
       "  'url': '/news/FTC-cloud-competition-risk-hearing-generative-AI-Lina-Khan/700232/',\n",
       "  'date': '3 January 2024',\n",
       "  'source': 'Cloudtech',\n",
       "  'query_date': datetime.datetime(2024, 1, 12, 14, 16, 23, 825810)},\n",
       " {'title': 'FTC extends cloud competition scrutiny to generative AI',\n",
       "  'url': '/news/FTC-cloud-competition-risk-hearing-generative-AI-Lina-Khan/700232/',\n",
       "  'date': '2 January 2024',\n",
       "  'source': 'Cloudtech',\n",
       "  'query_date': datetime.datetime(2024, 1, 12, 14, 16, 23, 825810)},\n",
       " {'title': 'FTC extends cloud competition scrutiny to generative AI',\n",
       "  'url': '/news/FTC-cloud-competition-risk-hearing-generative-AI-Lina-Khan/700232/',\n",
       "  'date': '22 December 2023',\n",
       "  'source': 'Cloudtech',\n",
       "  'query_date': datetime.datetime(2024, 1, 12, 14, 16, 23, 825810)},\n",
       " {'title': 'FTC extends cloud competition scrutiny to generative AI',\n",
       "  'url': '/news/FTC-cloud-competition-risk-hearing-generative-AI-Lina-Khan/700232/',\n",
       "  'date': '19 December 2023',\n",
       "  'source': 'Cloudtech',\n",
       "  'query_date': datetime.datetime(2024, 1, 12, 14, 16, 23, 825810)},\n",
       " {'title': 'FTC extends cloud competition scrutiny to generative AI',\n",
       "  'url': '/news/FTC-cloud-competition-risk-hearing-generative-AI-Lina-Khan/700232/',\n",
       "  'date': '14 December 2023',\n",
       "  'source': 'Cloudtech',\n",
       "  'query_date': datetime.datetime(2024, 1, 12, 14, 16, 23, 826810)},\n",
       " {'title': 'FTC extends cloud competition scrutiny to generative AI',\n",
       "  'url': '/news/FTC-cloud-competition-risk-hearing-generative-AI-Lina-Khan/700232/',\n",
       "  'date': '12 December 2023',\n",
       "  'source': 'Cloudtech',\n",
       "  'query_date': datetime.datetime(2024, 1, 12, 14, 16, 23, 826810)},\n",
       " {'title': 'FTC extends cloud competition scrutiny to generative AI',\n",
       "  'url': '/news/FTC-cloud-competition-risk-hearing-generative-AI-Lina-Khan/700232/',\n",
       "  'date': '7 December 2023',\n",
       "  'source': 'Cloudtech',\n",
       "  'query_date': datetime.datetime(2024, 1, 12, 14, 16, 23, 826810)},\n",
       " {'title': 'FTC extends cloud competition scrutiny to generative AI',\n",
       "  'url': '/news/FTC-cloud-competition-risk-hearing-generative-AI-Lina-Khan/700232/',\n",
       "  'date': '6 December 2023',\n",
       "  'source': 'Cloudtech',\n",
       "  'query_date': datetime.datetime(2024, 1, 12, 14, 16, 23, 826810)}]"
      ]
     },
     "execution_count": 30,
     "metadata": {},
     "output_type": "execute_result"
    }
   ],
   "source": [
    "data = []\n",
    "for article in soup.find_all('article', attrs={'class':'archive-post'}):\n",
    "    link =  article.find_next('header').find_next('a')\n",
    "    byline = article.find_next('div', attrs={'class':'byline'})\n",
    "    data.append({\n",
    "    'title':a.text.strip(),\n",
    "    'url': a['href'],\n",
    "    'date': byline.text.split('|')[0].strip(),\n",
    "    'source': 'Cloudtech',\n",
    "    'query_date': dt.now()\n",
    "    })\n",
    "data"
   ]
  }
 ],
 "metadata": {
  "kernelspec": {
   "display_name": "Python 3 (ipykernel)",
   "language": "python",
   "name": "python3"
  },
  "language_info": {
   "codemirror_mode": {
    "name": "ipython",
    "version": 3
   },
   "file_extension": ".py",
   "mimetype": "text/x-python",
   "name": "python",
   "nbconvert_exporter": "python",
   "pygments_lexer": "ipython3",
   "version": "3.11.4"
  }
 },
 "nbformat": 4,
 "nbformat_minor": 5
}
