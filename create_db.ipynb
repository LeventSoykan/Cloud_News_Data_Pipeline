{
 "cells": [
  {
   "cell_type": "code",
   "execution_count": 1,
   "id": "94b6ce0b-9c27-4002-9e01-be7be1786fa3",
   "metadata": {},
   "outputs": [],
   "source": [
    "from sqlalchemy import create_engine\n",
    "from sqlalchemy_utils import database_exists, create_database\n",
    "from sqlalchemy import Table, Column, Integer, String, MetaData, DateTime, text\n",
    "import os"
   ]
  },
  {
   "cell_type": "code",
   "execution_count": 2,
   "id": "d329f7d4-1086-4b89-be28-946606687806",
   "metadata": {},
   "outputs": [],
   "source": [
    "conn_url = os.environ.get('POSTGRES_CONNECTION_STRING')\n",
    "engine = create_engine(f'{conn_url}cloudnewsdb')"
   ]
  },
  {
   "cell_type": "code",
   "execution_count": 3,
   "id": "fb0e5a2f-6049-4966-b9eb-f4f91be6882a",
   "metadata": {},
   "outputs": [
    {
     "name": "stdout",
     "output_type": "stream",
     "text": [
      "True\n"
     ]
    }
   ],
   "source": [
    "if not database_exists(engine.url):\n",
    "    create_database(engine.url)\n",
    "\n",
    "print(database_exists(engine.url))"
   ]
  },
  {
   "cell_type": "code",
   "execution_count": 28,
   "id": "80d3c36b-44c4-4020-b296-40bc94a8ff95",
   "metadata": {},
   "outputs": [],
   "source": [
    "query = '''\n",
    "SET search_path TO public;\n",
    "CREATE TABLE IF NOT EXISTS articles (\n",
    "    id SERIAL PRIMARY KEY,\n",
    "    title VARCHAR(200) NOT NULL,\n",
    "    url VARCHAR(200) NOT NULL,\n",
    "    source VARCHAR(200) NOT NULL,\n",
    "    date DATE\n",
    ") \n",
    "'''\n",
    "with engine.connect() as con:\n",
    "    con.execute(text(query))\n",
    "    con.commit()"
   ]
  },
  {
   "cell_type": "code",
   "execution_count": 4,
   "id": "de1705d7",
   "metadata": {},
   "outputs": [
    {
     "name": "stderr",
     "output_type": "stream",
     "text": [
      "C:\\Users\\dell\\AppData\\Local\\Temp\\ipykernel_1940\\286623999.py:7: RemovedIn20Warning: Deprecated API features detected! These feature(s) are not compatible with SQLAlchemy 2.0. To prevent incompatible upgrades prior to updating applications, ensure requirements files are pinned to \"sqlalchemy<2.0\". Set environment variable SQLALCHEMY_WARN_20=1 to show all deprecation warnings.  Set environment variable SQLALCHEMY_SILENCE_UBER_WARNING=1 to silence this message. (Background on SQLAlchemy 2.0 at: https://sqlalche.me/e/b8d9)\n",
      "  con.execute(text(query))\n"
     ]
    }
   ],
   "source": [
    "query = '''\n",
    "INSERT INTO articles (title, url, source, date) \n",
    "VALUES ('test_new', 'http://test', 'levent', '2023-12-24');\n",
    "'''\n",
    "\n",
    "with engine.connect() as con:\n",
    "    con.execute(text(query))"
   ]
  },
  {
   "cell_type": "code",
   "execution_count": 5,
   "id": "94e7cfa2",
   "metadata": {},
   "outputs": [
    {
     "data": {
      "text/plain": [
       "[(7, 'test_new', 'http://test', 'levent', datetime.date(2023, 12, 24))]"
      ]
     },
     "execution_count": 5,
     "metadata": {},
     "output_type": "execute_result"
    }
   ],
   "source": [
    "query = '''\n",
    "SELECT * FROM articles;\n",
    "'''\n",
    "\n",
    "with engine.connect() as con:\n",
    "    result = con.execute(text(query))\n",
    "\n",
    "result.fetchall()"
   ]
  },
  {
   "cell_type": "code",
   "execution_count": null,
   "id": "f502f36e",
   "metadata": {},
   "outputs": [],
   "source": []
  }
 ],
 "metadata": {
  "kernelspec": {
   "display_name": "Python 3 (ipykernel)",
   "language": "python",
   "name": "python3"
  },
  "language_info": {
   "codemirror_mode": {
    "name": "ipython",
    "version": 3
   },
   "file_extension": ".py",
   "mimetype": "text/x-python",
   "name": "python",
   "nbconvert_exporter": "python",
   "pygments_lexer": "ipython3",
   "version": "3.11.1"
  }
 },
 "nbformat": 4,
 "nbformat_minor": 5
}
